{
  "nbformat": 4,
  "nbformat_minor": 0,
  "metadata": {
    "colab": {
      "provenance": []
    },
    "kernelspec": {
      "name": "python3",
      "display_name": "Python 3"
    },
    "language_info": {
      "name": "python"
    }
  },
  "cells": [
    {
      "cell_type": "code",
      "execution_count": 3,
      "metadata": {
        "colab": {
          "base_uri": "https://localhost:8080/"
        },
        "id": "5ADZVGwyRjY0",
        "outputId": "9524a0c9-684d-4ecb-a234-1c68e9b78bf4"
      },
      "outputs": [
        {
          "name": "stdout",
          "output_type": "stream",
          "text": [
            "bonjour\n",
            "bon matin my ami\n",
            "Added translation: computer -> ordinateur\n",
            "ordinateur\n",
            "English to French Translator (Type 'quit' to exit)\n",
            "Enter English text: hello\n",
            "French translation: bonjour\n",
            "\n",
            "Enter English text: hello let's visit our friend\n",
            "French translation: bonjour let's visit our ami\n",
            "\n",
            "Enter English text: quit\n"
          ]
        }
      ],
      "source": [
        "class DictionaryTranslator:\n",
        "    def __init__(self):\n",
        "        # Initialize the English-French dictionary\n",
        "        self.eng_fr_dict = {\n",
        "            'hello': 'bonjour',\n",
        "            'goodbye': 'au revoir',\n",
        "            'thank you': 'merci',\n",
        "            'please': 's\\'il vous plaît',\n",
        "            'yes': 'oui',\n",
        "            'no': 'non',\n",
        "            'good': 'bon',\n",
        "            'bad': 'mauvais',\n",
        "            'morning': 'matin',\n",
        "            'evening': 'soir',\n",
        "            'night': 'nuit',\n",
        "            'day': 'jour',\n",
        "            'week': 'semaine',\n",
        "            'month': 'mois',\n",
        "            'year': 'an',\n",
        "            'time': 'temps',\n",
        "            'person': 'personne',\n",
        "            'man': 'homme',\n",
        "            'woman': 'femme',\n",
        "            'child': 'enfant',\n",
        "            'water': 'eau',\n",
        "            'food': 'nourriture',\n",
        "            'house': 'maison',\n",
        "            'car': 'voiture',\n",
        "            'book': 'livre',\n",
        "            'school': 'école',\n",
        "            'teacher': 'professeur',\n",
        "            'student': 'étudiant',\n",
        "            'city': 'ville',\n",
        "            'country': 'pays',\n",
        "            'love': 'amour',\n",
        "            'friend': 'ami',\n",
        "            'family': 'famille',\n",
        "            'work': 'travail',\n",
        "            'money': 'argent',\n",
        "            'happy': 'heureux',\n",
        "            'sad': 'triste',\n",
        "            'big': 'grand',\n",
        "            'small': 'petit',\n",
        "            'new': 'nouveau',\n",
        "            'old': 'vieux',\n",
        "            'hot': 'chaud',\n",
        "            'cold': 'froid',\n",
        "            'dog': 'chien',\n",
        "            'cat': 'chat',\n",
        "            'tree': 'arbre',\n",
        "            'flower': 'fleur',\n",
        "            'sun': 'soleil',\n",
        "            'moon': 'lune',\n",
        "            'star': 'étoile'\n",
        "        }\n",
        "\n",
        "    def translate_word(self, word):\n",
        "        \"\"\"Translate a single word from English to French\"\"\"\n",
        "        return self.eng_fr_dict.get(word.lower(), word)  # Return the word itself if not found\n",
        "\n",
        "    def translate_sentence(self, sentence):\n",
        "        \"\"\"Translate a sentence from English to French\"\"\"\n",
        "        words = sentence.split()\n",
        "        translated_words = [self.translate_word(word) for word in words]\n",
        "        return ' '.join(translated_words)\n",
        "\n",
        "    def add_translation(self, eng_word, fr_word):\n",
        "        \"\"\"Add a new word pair to the dictionary\"\"\"\n",
        "        self.eng_fr_dict[eng_word.lower()] = fr_word\n",
        "        print(f\"Added translation: {eng_word} -> {fr_word}\")\n",
        "\n",
        "    def interactive_translation(self):\n",
        "        \"\"\"Interactive mode for translation\"\"\"\n",
        "        print(\"English to French Translator (Type 'quit' to exit)\")\n",
        "        while True:\n",
        "            text = input(\"Enter English text: \")\n",
        "            if text.lower() == 'quit':\n",
        "                break\n",
        "            translation = self.translate_sentence(text)\n",
        "            print(f\"French translation: {translation}\\n\")\n",
        "\n",
        "\n",
        "# Example usage\n",
        "if __name__ == \"__main__\":\n",
        "    translator = DictionaryTranslator()\n",
        "\n",
        "    # Test translations\n",
        "    print(translator.translate_word(\"hello\"))  # Output: bonjour\n",
        "    print(translator.translate_sentence(\"good morning my friend\"))  # Output: bon matin mon ami\n",
        "\n",
        "    # Add a new translation\n",
        "    translator.add_translation(\"computer\", \"ordinateur\")\n",
        "    print(translator.translate_word(\"computer\"))  # Output: ordinateur\n",
        "\n",
        "    # Start interactive mode\n",
        "    translator.interactive_translation()"
      ]
    },
    {
      "cell_type": "code",
      "source": [],
      "metadata": {
        "id": "tLApTOyCRkdC"
      },
      "execution_count": null,
      "outputs": []
    }
  ]
}