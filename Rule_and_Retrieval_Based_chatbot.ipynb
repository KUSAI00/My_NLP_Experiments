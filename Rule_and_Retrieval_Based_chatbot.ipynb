{
  "nbformat": 4,
  "nbformat_minor": 0,
  "metadata": {
    "colab": {
      "provenance": []
    },
    "kernelspec": {
      "name": "python3",
      "display_name": "Python 3"
    },
    "language_info": {
      "name": "python"
    }
  },
  "cells": [
    {
      "cell_type": "code",
      "source": [
        "import re\n",
        "import random\n",
        "from sklearn.feature_extraction.text import TfidfVectorizer\n",
        "from sklearn.metrics.pairwise import cosine_similarity\n",
        "import numpy as np"
      ],
      "metadata": {
        "id": "LH_iMDdWHZwz"
      },
      "execution_count": 8,
      "outputs": []
    },
    {
      "cell_type": "code",
      "source": [
        "def simple_chatbot(user_input):\n",
        "    # Convert input to lowercase for easier matching\n",
        "    input_text = user_input.lower()\n",
        "\n",
        "    # Greeting patterns\n",
        "    if re.search(r'hi|hello|hey|greetings', input_text):\n",
        "        greetings = [\"Hello!\", \"Hi there!\", \"Greetings!\", \"Hey!\"]\n",
        "        return random.choice(greetings)\n",
        "\n",
        "    # How are you patterns\n",
        "    elif re.search(r'how are you|how\\'s it going|how do you do', input_text):\n",
        "        responses = [\"I'm just a chatbot, but I'm functioning well!\",\n",
        "                    \"I don't have feelings, but thanks for asking!\",\n",
        "                    \"All systems operational!\"]\n",
        "        return random.choice(responses)\n",
        "\n",
        "    # Name patterns\n",
        "    elif re.search(r'what is your name|who are you', input_text):\n",
        "        return \"I'm a simple rule-based chatbot. You can call me Bot.\"\n",
        "\n",
        "    # Time patterns (this would need actual time functionality to be useful)\n",
        "    elif re.search(r'time|what time is it', input_text):\n",
        "        return \"I'm sorry, I don't have clock functionality in this simple version.\"\n",
        "\n",
        "    # Date patterns\n",
        "    elif re.search(r'date|today\\'s date|what day is it', input_text):\n",
        "        return \"I can't tell the date in this basic version.\"\n",
        "\n",
        "    # Thank you patterns\n",
        "    elif re.search(r'thank you|thanks|appreciate it', input_text):\n",
        "        return \"You're welcome!\"\n",
        "\n",
        "    # Goodbye patterns\n",
        "    elif re.search(r'bye|goodbye|see you later', input_text):\n",
        "        return \"Goodbye! Have a nice day!\"\n",
        "\n",
        "    # Help patterns\n",
        "    elif re.search(r'help|what can you do', input_text):\n",
        "        return \"I can respond to greetings, tell you about myself, and handle basic conversations.\"\n",
        "\n",
        "    # Default response if no patterns match\n",
        "    else:\n",
        "        return \"I'm not sure how to respond to that. Can you try asking something else?\""
      ],
      "metadata": {
        "id": "8Zsejvy6HzDO"
      },
      "execution_count": 10,
      "outputs": []
    },
    {
      "cell_type": "code",
      "execution_count": 11,
      "metadata": {
        "colab": {
          "base_uri": "https://localhost:8080/"
        },
        "id": "S5It9VseDGYV",
        "outputId": "f5e16228-5d0d-47c8-e48b-d026798f8f82"
      },
      "outputs": [
        {
          "output_type": "stream",
          "name": "stdout",
          "text": [
            "Simple Rule-Based Chatbot\n",
            "Type 'quit' to exit the chat\n",
            "You: how are you \n",
            "Bot: All systems operational!\n",
            "You: howw are you\n",
            "Bot: I'm not sure how to respond to that. Can you try asking something else?\n",
            "You: quit\n",
            "Bot: Goodbye!\n"
          ]
        }
      ],
      "source": [
        "# Main chat loop\n",
        "print(\"Simple Rule-Based Chatbot\")\n",
        "print(\"Type 'quit' to exit the chat\")\n",
        "\n",
        "while True:\n",
        "    user_input = input(\"You: \")\n",
        "    if user_input.lower() == 'quit':\n",
        "        print(\"Bot: Goodbye!\")\n",
        "        break\n",
        "    response = simple_chatbot(user_input)\n",
        "    print(\"Bot:\", response)"
      ]
    },
    {
      "cell_type": "code",
      "source": [
        "# Sample conversation pairs (question-answer)\n",
        "qa_pairs = {\n",
        "    \"hi\": \"Hello! How can I help you today?\",\n",
        "    \"hello\": \"Hi there! What can I do for you?\",\n",
        "    \"hey\": \"Hey! How are you doing?\",\n",
        "    \"what's your name\": \"I'm a retrieval-based chatbot. You can call me RBot.\",\n",
        "    \"who are you\": \"I'm a simple AI assistant that learns from previous conversations.\",\n",
        "    \"how are you\": \"I'm just a program, so I don't have feelings, but thanks for asking!\",\n",
        "    \"what can you do\": \"I can answer questions based on what I've learned from previous conversations.\",\n",
        "    \"bye\": \"Goodbye! Have a nice day!\",\n",
        "    \"goodbye\": \"See you later!\",\n",
        "    \"thanks\": \"You're welcome!\",\n",
        "    \"thank you\": \"My pleasure!\",\n",
        "    \"what time is it\": \"I don't have access to real-time clock in this simple version.\",\n",
        "    \"tell me a joke\": \"Why don't scientists trust atoms? Because they make up everything!\",\n",
        "    \"help\": \"I can answer questions, tell jokes, and have simple conversations.\"\n",
        "}\n",
        "\n",
        "class RetrievalChatbot:\n",
        "    def __init__(self, qa_pairs):\n",
        "        self.qa_pairs = qa_pairs\n",
        "        self.questions = list(qa_pairs.keys())\n",
        "        self.vectorizer = TfidfVectorizer()\n",
        "        # Fit the vectorizer on all questions\n",
        "        self.question_vectors = self.vectorizer.fit_transform(self.questions)\n",
        "\n",
        "    def preprocess(self, text):\n",
        "        \"\"\"Basic text preprocessing\"\"\"\n",
        "        text = text.lower()\n",
        "        text = re.sub(r'[^\\w\\s]', '', text)  # Remove punctuation\n",
        "        return text\n",
        "\n",
        "    def get_response(self, user_input):\n",
        "        \"\"\"Find the most similar question and return its answer\"\"\"\n",
        "        # Preprocess input\n",
        "        processed_input = self.preprocess(user_input)\n",
        "\n",
        "        # Vectorize the input\n",
        "        input_vector = self.vectorizer.transform([processed_input])\n",
        "\n",
        "        # Calculate similarity with all questions\n",
        "        similarities = cosine_similarity(input_vector, self.question_vectors)\n",
        "\n",
        "        # Get index of most similar question\n",
        "        most_similar_idx = np.argmax(similarities)\n",
        "        similarity_score = similarities[0, most_similar_idx]\n",
        "        # Only respond if similarity is above threshold\n",
        "        if similarity_score > 0.5:\n",
        "            return self.qa_pairs[self.questions[most_similar_idx]]\n",
        "        else:\n",
        "            return \"I'm not sure how to respond to that. Can you try asking something else?\"\n"
      ],
      "metadata": {
        "id": "oh8ACtmAH4sp"
      },
      "execution_count": 16,
      "outputs": []
    },
    {
      "cell_type": "code",
      "source": [
        "# Initialize chatbot\n",
        "chatbot = RetrievalChatbot(qa_pairs)\n",
        "\n",
        "# Chat interface\n",
        "print(\"Retrieval-Based Chatbot\")\n",
        "print(\"Type 'quit' to exit the chat\\n\")\n",
        "\n",
        "while True:\n",
        "    user_input = input(\"You: \")\n",
        "    if user_input.lower() == 'quit':\n",
        "        print(\"Bot: Goodbye!\")\n",
        "        break\n",
        "    response = chatbot.get_response(user_input)\n",
        "    print(\"Bot:\", response)"
      ],
      "metadata": {
        "colab": {
          "base_uri": "https://localhost:8080/"
        },
        "id": "_pK6LtmdD9Bi",
        "outputId": "a515111f-d4a3-4790-a9f3-df4ec0ee30af"
      },
      "execution_count": 17,
      "outputs": [
        {
          "output_type": "stream",
          "name": "stdout",
          "text": [
            "Retrieval-Based Chatbot\n",
            "Type 'quit' to exit the chat\n",
            "\n",
            "You: how are youu\n",
            "Bot: I'm just a program, so I don't have feelings, but thanks for asking!\n",
            "You: how are you\n",
            "Bot: I'm just a program, so I don't have feelings, but thanks for asking!\n",
            "You: quit\n",
            "Bot: Goodbye!\n"
          ]
        }
      ]
    },
    {
      "cell_type": "code",
      "source": [],
      "metadata": {
        "id": "5rSXAYSIH5WA"
      },
      "execution_count": null,
      "outputs": []
    }
  ]
}