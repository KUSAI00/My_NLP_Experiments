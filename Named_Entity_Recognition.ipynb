{
  "nbformat": 4,
  "nbformat_minor": 0,
  "metadata": {
    "colab": {
      "provenance": []
    },
    "kernelspec": {
      "name": "python3",
      "display_name": "Python 3"
    },
    "language_info": {
      "name": "python"
    }
  },
  "cells": [
    {
      "cell_type": "code",
      "source": [
        "import spacy\n",
        "from spacy import displacy\n",
        "\n",
        "# Load the English language model\n",
        "nlp = spacy.load(\"en_core_web_sm\")"
      ],
      "metadata": {
        "id": "AIL-j16DM096"
      },
      "execution_count": null,
      "outputs": []
    },
    {
      "cell_type": "code",
      "source": [
        "def perform_ner(text):\n",
        "    \"\"\"\n",
        "    Perform Named Entity Recognition on the input text and display the results.\n",
        "    \"\"\"\n",
        "    # Process the text\n",
        "    doc = nlp(text)\n",
        "\n",
        "    # Display entities with highlighting\n",
        "    print(\"\\nNamed Entities Found:\")\n",
        "    for ent in doc.ents:\n",
        "        print(f\"{ent.text:<25} {ent.label_:<15}\")\n",
        "\n",
        "    # Visualize with displacy\n",
        "    displacy.render(doc, style=\"ent\")\n",
        "\n",
        "def extract_companies(text):\n",
        "    \"\"\"\n",
        "    Extract company names (ORG entities) from financial news.\n",
        "    \"\"\"\n",
        "    doc = nlp(text)\n",
        "    companies = [ent.text for ent in doc.ents if ent.label_ == \"ORG\"]\n",
        "\n",
        "    print(\"\\nCompanies Found:\")\n",
        "    for company in set(companies):  # Using set to remove duplicates\n",
        "        print(f\"- {company}\")\n"
      ],
      "metadata": {
        "id": "SCECzJcwNMmj"
      },
      "execution_count": 24,
      "outputs": []
    },
    {
      "cell_type": "code",
      "execution_count": 25,
      "metadata": {
        "colab": {
          "base_uri": "https://localhost:8080/",
          "height": 504
        },
        "id": "rZt2TlqJMOR8",
        "outputId": "84b0802d-0bbe-4251-f58f-3bf44781f4b9"
      },
      "outputs": [
        {
          "output_type": "stream",
          "name": "stdout",
          "text": [
            "=== General NER Demonstration ===\n",
            "\n",
            "Named Entities Found:\n",
            "Apple Inc.                ORG            \n",
            "quarterly                 DATE           \n",
            "yesterday                 DATE           \n",
            "Cupertino                 GPE            \n",
            "$89.5 billion             MONEY          \n",
            "Microsoft Corporation     ORG            \n",
            "Amazon.com Inc.           ORG            \n",
            "The Federal Reserve       ORG            \n",
            "later this year           DATE           \n"
          ]
        },
        {
          "output_type": "display_data",
          "data": {
            "text/plain": [
              "<IPython.core.display.HTML object>"
            ],
            "text/html": [
              "<span class=\"tex2jax_ignore\"><div class=\"entities\" style=\"line-height: 2.5; direction: ltr\"><br>\n",
              "<mark class=\"entity\" style=\"background: #7aecec; padding: 0.45em 0.6em; margin: 0 0.25em; line-height: 1; border-radius: 0.35em;\">\n",
              "    Apple Inc.\n",
              "    <span style=\"font-size: 0.8em; font-weight: bold; line-height: 1; border-radius: 0.35em; vertical-align: middle; margin-left: 0.5rem\">ORG</span>\n",
              "</mark>\n",
              " announced its \n",
              "<mark class=\"entity\" style=\"background: #bfe1d9; padding: 0.45em 0.6em; margin: 0 0.25em; line-height: 1; border-radius: 0.35em;\">\n",
              "    quarterly\n",
              "    <span style=\"font-size: 0.8em; font-weight: bold; line-height: 1; border-radius: 0.35em; vertical-align: middle; margin-left: 0.5rem\">DATE</span>\n",
              "</mark>\n",
              " earnings \n",
              "<mark class=\"entity\" style=\"background: #bfe1d9; padding: 0.45em 0.6em; margin: 0 0.25em; line-height: 1; border-radius: 0.35em;\">\n",
              "    yesterday\n",
              "    <span style=\"font-size: 0.8em; font-weight: bold; line-height: 1; border-radius: 0.35em; vertical-align: middle; margin-left: 0.5rem\">DATE</span>\n",
              "</mark>\n",
              ", surpassing analysts' expectations. The \n",
              "<mark class=\"entity\" style=\"background: #feca74; padding: 0.45em 0.6em; margin: 0 0.25em; line-height: 1; border-radius: 0.35em;\">\n",
              "    Cupertino\n",
              "    <span style=\"font-size: 0.8em; font-weight: bold; line-height: 1; border-radius: 0.35em; vertical-align: middle; margin-left: 0.5rem\">GPE</span>\n",
              "</mark>\n",
              "-based company reported revenue of \n",
              "<mark class=\"entity\" style=\"background: #e4e7d2; padding: 0.45em 0.6em; margin: 0 0.25em; line-height: 1; border-radius: 0.35em;\">\n",
              "    $89.5 billion\n",
              "    <span style=\"font-size: 0.8em; font-weight: bold; line-height: 1; border-radius: 0.35em; vertical-align: middle; margin-left: 0.5rem\">MONEY</span>\n",
              "</mark>\n",
              ", <br>driven by strong iPhone sales. Meanwhile, \n",
              "<mark class=\"entity\" style=\"background: #7aecec; padding: 0.45em 0.6em; margin: 0 0.25em; line-height: 1; border-radius: 0.35em;\">\n",
              "    Microsoft Corporation\n",
              "    <span style=\"font-size: 0.8em; font-weight: bold; line-height: 1; border-radius: 0.35em; vertical-align: middle; margin-left: 0.5rem\">ORG</span>\n",
              "</mark>\n",
              " and \n",
              "<mark class=\"entity\" style=\"background: #7aecec; padding: 0.45em 0.6em; margin: 0 0.25em; line-height: 1; border-radius: 0.35em;\">\n",
              "    Amazon.com Inc.\n",
              "    <span style=\"font-size: 0.8em; font-weight: bold; line-height: 1; border-radius: 0.35em; vertical-align: middle; margin-left: 0.5rem\">ORG</span>\n",
              "</mark>\n",
              " also saw their stocks rise after positive earnings reports. <br>\n",
              "<mark class=\"entity\" style=\"background: #7aecec; padding: 0.45em 0.6em; margin: 0 0.25em; line-height: 1; border-radius: 0.35em;\">\n",
              "    The Federal Reserve\n",
              "    <span style=\"font-size: 0.8em; font-weight: bold; line-height: 1; border-radius: 0.35em; vertical-align: middle; margin-left: 0.5rem\">ORG</span>\n",
              "</mark>\n",
              " indicated potential interest rate cuts \n",
              "<mark class=\"entity\" style=\"background: #bfe1d9; padding: 0.45em 0.6em; margin: 0 0.25em; line-height: 1; border-radius: 0.35em;\">\n",
              "    later this year\n",
              "    <span style=\"font-size: 0.8em; font-weight: bold; line-height: 1; border-radius: 0.35em; vertical-align: middle; margin-left: 0.5rem\">DATE</span>\n",
              "</mark>\n",
              ".<br></div></span>"
            ]
          },
          "metadata": {}
        },
        {
          "output_type": "stream",
          "name": "stdout",
          "text": [
            "\n",
            "=== Company Extraction from Financial News ===\n",
            "\n",
            "Companies Found:\n",
            "- The Federal Reserve\n",
            "- Microsoft Corporation\n",
            "- Amazon.com Inc.\n",
            "- Apple Inc.\n"
          ]
        }
      ],
      "source": [
        "# Example financial news text\n",
        "financial_news = \"\"\"\n",
        "Apple Inc. announced its quarterly earnings yesterday, surpassing analysts' expectations. The Cupertino-based company reported revenue of $89.5 billion,\n",
        "driven by strong iPhone sales. Meanwhile, Microsoft Corporation and Amazon.com Inc. also saw their stocks rise after positive earnings reports.\n",
        "The Federal Reserve indicated potential interest rate cuts later this year.\n",
        "\"\"\"\n",
        "\n",
        "print(\"=== General NER Demonstration ===\")\n",
        "perform_ner(financial_news)\n",
        "\n",
        "print(\"\\n=== Company Extraction from Financial News ===\")\n",
        "extract_companies(financial_news)"
      ]
    },
    {
      "cell_type": "code",
      "source": [
        "import nltk\n",
        "from nltk import ne_chunk, pos_tag, word_tokenize\n",
        "from nltk.tree import Tree\n",
        "\n",
        "# Download required NLTK data\n",
        "nltk.download('punkt')\n",
        "nltk.download('averaged_perceptron_tagger')\n",
        "nltk.download('maxent_ne_chunker')\n",
        "nltk.download('words')\n",
        "nltk.download('punkt_tab')\n",
        "nltk.download('averaged_perceptron_tagger_eng')\n",
        "nltk.download('maxent_ne_chunker_tab')"
      ],
      "metadata": {
        "colab": {
          "base_uri": "https://localhost:8080/"
        },
        "id": "oTj78FnHNTWZ",
        "outputId": "b86fbf34-f8a1-4516-b7fc-6607e93567b0"
      },
      "execution_count": 18,
      "outputs": [
        {
          "output_type": "stream",
          "name": "stderr",
          "text": [
            "[nltk_data] Downloading package punkt to /root/nltk_data...\n",
            "[nltk_data]   Package punkt is already up-to-date!\n",
            "[nltk_data] Downloading package averaged_perceptron_tagger to\n",
            "[nltk_data]     /root/nltk_data...\n",
            "[nltk_data]   Package averaged_perceptron_tagger is already up-to-\n",
            "[nltk_data]       date!\n",
            "[nltk_data] Downloading package maxent_ne_chunker to\n",
            "[nltk_data]     /root/nltk_data...\n",
            "[nltk_data]   Package maxent_ne_chunker is already up-to-date!\n",
            "[nltk_data] Downloading package words to /root/nltk_data...\n",
            "[nltk_data]   Package words is already up-to-date!\n",
            "[nltk_data] Downloading package punkt_tab to /root/nltk_data...\n",
            "[nltk_data]   Package punkt_tab is already up-to-date!\n",
            "[nltk_data] Downloading package averaged_perceptron_tagger_eng to\n",
            "[nltk_data]     /root/nltk_data...\n",
            "[nltk_data]   Package averaged_perceptron_tagger_eng is already up-to-\n",
            "[nltk_data]       date!\n",
            "[nltk_data] Downloading package maxent_ne_chunker_tab to\n",
            "[nltk_data]     /root/nltk_data...\n",
            "[nltk_data]   Unzipping chunkers/maxent_ne_chunker_tab.zip.\n"
          ]
        },
        {
          "output_type": "execute_result",
          "data": {
            "text/plain": [
              "True"
            ]
          },
          "metadata": {},
          "execution_count": 18
        }
      ]
    },
    {
      "cell_type": "code",
      "source": [
        "def perform_ner_nltk(text):\n",
        "    \"\"\"\n",
        "    Perform NER using NLTK\n",
        "    \"\"\"\n",
        "    tokens = word_tokenize(text)\n",
        "    tagged = pos_tag(tokens)\n",
        "    entities = ne_chunk(tagged)\n",
        "\n",
        "    print(\"\\nNamed Entities Found:\")\n",
        "    for chunk in entities:\n",
        "        if isinstance(chunk, Tree):\n",
        "            entity = \" \".join([token for token, pos in chunk.leaves()])\n",
        "            #print(chunk,Tree)\n",
        "            label = chunk.label()\n",
        "            print(f\"{entity:<25} {label:<15}\")\n",
        "\n",
        "def extract_companies_nltk(text):\n",
        "    \"\"\"\n",
        "    Extract companies (ORGs) using NLTK\n",
        "    \"\"\"\n",
        "    tokens = word_tokenize(text)\n",
        "    tagged = pos_tag(tokens)\n",
        "    entities = ne_chunk(tagged)\n",
        "\n",
        "    companies = []\n",
        "    for chunk in entities:\n",
        "        if isinstance(chunk, Tree) and chunk.label() == \"ORGANIZATION\":\n",
        "            companies.append(\" \".join([token for token, pos in chunk.leaves()]))\n",
        "\n",
        "    print(\"\\nCompanies Found:\")\n",
        "    for company in set(companies):\n",
        "        print(f\"- {company}\")"
      ],
      "metadata": {
        "id": "2KB2zC66NX7Z"
      },
      "execution_count": 39,
      "outputs": []
    },
    {
      "cell_type": "code",
      "source": [
        "print(\"=== NLTK NER Demonstration ===\")\n",
        "perform_ner_nltk(financial_news)\n",
        "\n",
        "print(\"\\n=== NLTK Company Extraction ===\")\n",
        "extract_companies_nltk(financial_news)"
      ],
      "metadata": {
        "colab": {
          "base_uri": "https://localhost:8080/"
        },
        "id": "yKYNSd5aMWca",
        "outputId": "a2c8a421-8278-48fc-c8e5-d6ed4bd213f3"
      },
      "execution_count": 40,
      "outputs": [
        {
          "output_type": "stream",
          "name": "stdout",
          "text": [
            "=== NLTK NER Demonstration ===\n",
            "\n",
            "Named Entities Found:\n",
            "Apple                     PERSON         \n",
            "Inc.                      ORGANIZATION   \n",
            "iPhone                    ORGANIZATION   \n",
            "Microsoft Corporation     PERSON         \n",
            "Amazon.com Inc.           ORGANIZATION   \n",
            "Federal Reserve           ORGANIZATION   \n",
            "\n",
            "=== NLTK Company Extraction ===\n",
            "\n",
            "Companies Found:\n",
            "- iPhone\n",
            "- Amazon.com Inc.\n",
            "- Federal Reserve\n",
            "- Inc.\n"
          ]
        }
      ]
    }
  ]
}